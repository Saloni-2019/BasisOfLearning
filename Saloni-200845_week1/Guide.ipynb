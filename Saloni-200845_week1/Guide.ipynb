{
 "cells": [
  {
   "cell_type": "markdown",
   "id": "00f6c8fa",
   "metadata": {},
   "source": [
    "# Guide to Jupyter Notebook\n",
    "\n",
    ">This is a handy guide to jupyter notebook and what all it has to offer."
   ]
  },
  {
   "cell_type": "code",
   "execution_count": 2,
   "id": "6c2d481a",
   "metadata": {},
   "outputs": [
    {
     "name": "stdout",
     "output_type": "stream",
     "text": [
      "Hello World\n"
     ]
    }
   ],
   "source": [
    "print(\"Hello World\")"
   ]
  }
 ],
 "metadata": {
  "kernelspec": {
   "display_name": "Python 3 (ipykernel)",
   "language": "python",
   "name": "python3"
  },
  "language_info": {
   "codemirror_mode": {
    "name": "ipython",
    "version": 3
   },
   "file_extension": ".py",
   "mimetype": "text/x-python",
   "name": "python",
   "nbconvert_exporter": "python",
   "pygments_lexer": "ipython3",
   "version": "3.9.12"
  }
 },
 "nbformat": 4,
 "nbformat_minor": 5
}
